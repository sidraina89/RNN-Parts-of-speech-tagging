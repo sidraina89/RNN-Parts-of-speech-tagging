{
 "cells": [
  {
   "cell_type": "code",
   "execution_count": 70,
   "metadata": {},
   "outputs": [],
   "source": [
    "#!pip install conllu tensorflow"
   ]
  },
  {
   "cell_type": "code",
   "execution_count": 5,
   "metadata": {},
   "outputs": [
    {
     "name": "stdout",
     "output_type": "stream",
     "text": [
      "Untitled.ipynb \u001b[34mdata\u001b[m\u001b[m\n"
     ]
    }
   ],
   "source": [
    "!cd data"
   ]
  },
  {
   "cell_type": "code",
   "execution_count": 77,
   "metadata": {},
   "outputs": [],
   "source": [
    "import conllu\n",
    "import os\n",
    "import pandas as pd\n",
    "import numpy as np\n",
    "import re\n",
    "from os import listdir\n",
    "import tensorflow\n",
    "from os.path import isfile, isdir, join\n",
    "from xml.etree import ElementTree"
   ]
  },
  {
   "cell_type": "code",
   "execution_count": 78,
   "metadata": {},
   "outputs": [],
   "source": [
    "def load_raw_conllu(load_train=True, load_dev=True, load_test=True):    \n",
    "    print(\"Load raw conllu dataset (load_train={}, load_dev={}, load_test={})\".format(load_train, load_dev, load_test))\n",
    "    filepaths = []\n",
    "    if load_train:\n",
    "        filepaths += [\n",
    "            \"data/en_gum-ud-train.conllu\"\n",
    "        ]\n",
    "    if load_dev:\n",
    "        filepaths += [\n",
    "            \"data/en_gum-ud-dev.conllu\"\n",
    "        ]\n",
    "    if load_test:\n",
    "        filepaths += [\n",
    "            \"data/en_gum-ud-test.conllu\"\n",
    "        ]\n",
    "    data_list = []\n",
    "    for path in filepaths:\n",
    "        print(\"Processing {}\".format(path))\n",
    "        with open(path, \"r\") as f:\n",
    "            raw_data = f.read()\n",
    "        data_list.append(conllu.parse(raw_data))\n",
    "        #meta_list.append(conllu_meta_parse(raw_data))\n",
    "        \n",
    "    return data_list"
   ]
  },
  {
   "cell_type": "code",
   "execution_count": 79,
   "metadata": {},
   "outputs": [],
   "source": [
    "def convert2df(raw_data_list):\n",
    "    data_list = []\n",
    "    for idx, data in enumerate(raw_data_list):\n",
    "        sentence_dfs = []\n",
    "        cols = data[0][0].keys()\n",
    "        for i in range(len(data)):\n",
    "            words = []\n",
    "            for j in range(len(data[i])):\n",
    "                words.append(data[i][j].values())\n",
    "            sentence_dfs.append(pd.DataFrame(words, columns=cols).set_index('id'))\n",
    "        data_list.append(sentence_dfs)\n",
    "    return data_list"
   ]
  },
  {
   "cell_type": "code",
   "execution_count": 80,
   "metadata": {},
   "outputs": [
    {
     "name": "stdout",
     "output_type": "stream",
     "text": [
      "Load raw conllu dataset (load_train=True, load_dev=True, load_test=True)\n",
      "Processing data/en_gum-ud-train.conllu\n",
      "Processing data/en_gum-ud-dev.conllu\n",
      "Processing data/en_gum-ud-test.conllu\n"
     ]
    }
   ],
   "source": [
    "raw_data_list = load_raw_conllu()\n",
    "train_data,dev_data,test_data = convert2df(raw_data_list)"
   ]
  },
  {
   "cell_type": "code",
   "execution_count": 81,
   "metadata": {},
   "outputs": [],
   "source": [
    "X_train = [[d[\"form\"].tolist(), d[\"upos\"].tolist()] for d in train_data]\n",
    "X_dev = [[d[\"form\"].tolist(), d[\"upos\"].tolist()] for d in dev_data]\n",
    "X_test = [[d[\"form\"].tolist(), d[\"upos\"].tolist()] for d in test_data]\n",
    "\n",
    "\n",
    "word_to_ix = dict()\n",
    "tag_to_ix = dict()\n",
    "\n",
    "word_to_ix['-PAD-'] = 0  # The special value used for padding\n",
    "word_to_ix['-OOV-'] = 1  # The special value used for OOVs\n",
    "tag_to_ix['-PAD-'] = 0  # The special value used to padding\n",
    "\n",
    "for i in range(len(X_train)):\n",
    "    sent = X_train[i][0]\n",
    "    tags = X_train[i][1]\n",
    "    for word in sent:\n",
    "        if word.lower() not in word_to_ix:\n",
    "            word_to_ix[word.lower()] = len(word_to_ix)\n",
    "    for tag in tags:\n",
    "        if tag not in tag_to_ix:\n",
    "            tag_to_ix[tag] = len(tag_to_ix)\n"
   ]
  },
  {
   "cell_type": "code",
   "execution_count": 82,
   "metadata": {},
   "outputs": [],
   "source": [
    "train_sentences_X, dev_sentences_X, train_tags_y, dev_tags_y, test_sentences_X, test_tags_y = [], [], [], [],[],[]\n",
    "\n",
    "for s in X_train:\n",
    "    s_int = []\n",
    "    tag_int = []\n",
    "    for w in s[0]:\n",
    "        try:\n",
    "            s_int.append(word_to_ix[w.lower()])\n",
    "        except KeyError:\n",
    "            s_int.append(word_to_ix['-OOV-'])\n",
    "    train_sentences_X.append(s_int)\n",
    "    \n",
    "            \n",
    "    for tag in s[1]:\n",
    "        tag_int.append(tag_to_ix[tag])\n",
    "    train_tags_y.append(tag_int)\n",
    "\n",
    "for s in X_dev:\n",
    "    s_int = []\n",
    "    tag_int = []\n",
    "    for w in s[0]:\n",
    "        try:\n",
    "            s_int.append(word_to_ix[w.lower()])\n",
    "        except KeyError:\n",
    "            s_int.append(word_to_ix['-OOV-'])\n",
    "    dev_sentences_X.append(s_int)\n",
    "    \n",
    "    for tag in s[1]:\n",
    "        tag_int.append(tag_to_ix[tag])\n",
    "    dev_tags_y.append(tag_int)\n",
    "    \n",
    "for s in X_test:\n",
    "    s_int = []\n",
    "    tag_int = []\n",
    "    for w in s[0]:\n",
    "        try:\n",
    "            s_int.append(word_to_ix[w.lower()])\n",
    "        except KeyError:\n",
    "            s_int.append(word_to_ix['-OOV-'])\n",
    "    test_sentences_X.append(s_int)\n",
    "    \n",
    "    for tag in s[1]:\n",
    "        tag_int.append(tag_to_ix[tag])\n",
    "    test_tags_y.append(tag_int)"
   ]
  },
  {
   "cell_type": "code",
   "execution_count": 95,
   "metadata": {},
   "outputs": [
    {
     "data": {
      "text/plain": [
       "[2043, 4, 932, 3469]"
      ]
     },
     "execution_count": 95,
     "metadata": {},
     "output_type": "execute_result"
    }
   ],
   "source": [
    "train_sentences_X[-1]"
   ]
  },
  {
   "cell_type": "code",
   "execution_count": 9,
   "metadata": {},
   "outputs": [
    {
     "data": {
      "text/plain": [
       "dict_keys(['-PAD-', 'ADJ', 'NOUN', 'CCONJ', 'PUNCT', 'ADP', 'PROPN', 'SCONJ', 'AUX', 'VERB', 'DET', 'PRON', 'NUM', 'ADV', 'X', 'SYM', 'PART', 'INTJ'])"
      ]
     },
     "execution_count": 9,
     "metadata": {},
     "output_type": "execute_result"
    }
   ],
   "source": [
    "tag_to_ix.keys()"
   ]
  },
  {
   "cell_type": "code",
   "execution_count": 10,
   "metadata": {},
   "outputs": [
    {
     "data": {
      "text/plain": [
       "([2, 3, 4, 5, 6, 7], [1, 2, 3, 1, 2, 4])"
      ]
     },
     "execution_count": 10,
     "metadata": {},
     "output_type": "execute_result"
    }
   ],
   "source": [
    "train_sentences_X[0],train_tags_y[0]"
   ]
  },
  {
   "cell_type": "code",
   "execution_count": 11,
   "metadata": {},
   "outputs": [
    {
     "name": "stdout",
     "output_type": "stream",
     "text": [
      "[2, 3, 4, 5, 6, 7]\n",
      "[1, 2, 3, 1, 2, 4]\n",
      "[313]\n",
      "[2]\n",
      "[48, 7339, 15, 1, 432, 342, 1364, 101, 2483, 531, 7]\n",
      "[10, 2, 5, 2, 5, 1, 2, 5, 1, 6, 4]\n"
     ]
    },
    {
     "data": {
      "text/plain": [
       "(None, None, None, None, None, None)"
      ]
     },
     "execution_count": 11,
     "metadata": {},
     "output_type": "execute_result"
    }
   ],
   "source": [
    "print(train_sentences_X[0]),print(train_tags_y[0]), print(dev_sentences_X[0]),print(dev_tags_y[0]),print(test_sentences_X[0]),print(test_tags_y[0])"
   ]
  },
  {
   "cell_type": "code",
   "execution_count": 12,
   "metadata": {},
   "outputs": [
    {
     "name": "stdout",
     "output_type": "stream",
     "text": [
      "[48, 7339, 15, 1, 432, 342, 1364, 101, 2483, 531, 7]\n"
     ]
    }
   ],
   "source": [
    "print(test_sentences_X[0])"
   ]
  },
  {
   "cell_type": "code",
   "execution_count": 13,
   "metadata": {},
   "outputs": [
    {
     "data": {
      "text/plain": [
       "[10, 2, 5, 2, 5, 1, 2, 5, 1, 6, 4]"
      ]
     },
     "execution_count": 13,
     "metadata": {},
     "output_type": "execute_result"
    }
   ],
   "source": [
    "test_tags_y[0]"
   ]
  },
  {
   "cell_type": "code",
   "execution_count": 14,
   "metadata": {},
   "outputs": [],
   "source": [
    "senten = []\n",
    "for tok in test_sentences_X[1]:\n",
    "    for key,val in word_to_ix.items():\n",
    "        if val == tok:\n",
    "            senten.append(key)"
   ]
  },
  {
   "cell_type": "code",
   "execution_count": 15,
   "metadata": {},
   "outputs": [
    {
     "data": {
      "text/plain": [
       "['results',\n",
       " 'from',\n",
       " 'a',\n",
       " 'nationally',\n",
       " 'representative',\n",
       " 'sample',\n",
       " 'of',\n",
       " 'adults']"
      ]
     },
     "execution_count": 15,
     "metadata": {},
     "output_type": "execute_result"
    }
   ],
   "source": [
    "senten"
   ]
  },
  {
   "cell_type": "code",
   "execution_count": 16,
   "metadata": {},
   "outputs": [
    {
     "name": "stdout",
     "output_type": "stream",
     "text": [
      "99\n"
     ]
    }
   ],
   "source": [
    "MAX_LENGTH = len(max(train_sentences_X, key=len))\n",
    "print(MAX_LENGTH) "
   ]
  },
  {
   "cell_type": "code",
   "execution_count": 101,
   "metadata": {},
   "outputs": [],
   "source": [
    "from tensorflow.keras.preprocessing.sequence import pad_sequences\n",
    " \n",
    "train_sentences_X = pad_sequences(train_sentences_X, maxlen=MAX_LENGTH, padding='post')\n",
    "dev_sentences_X = pad_sequences(dev_sentences_X, maxlen=MAX_LENGTH, padding='post')\n",
    "test_sentences_X = pad_sequences(test_sentences_X, maxlen=MAX_LENGTH, padding='post')\n",
    "train_tags_y = pad_sequences(train_tags_y, maxlen=MAX_LENGTH, padding='post')\n",
    "dev_tags_y = pad_sequences(dev_tags_y, maxlen=MAX_LENGTH, padding='post')\n",
    "test_tags_y = pad_sequences(test_tags_y, maxlen=MAX_LENGTH, padding='post')"
   ]
  },
  {
   "cell_type": "code",
   "execution_count": 104,
   "metadata": {},
   "outputs": [
    {
     "data": {
      "text/plain": [
       "array([[    2,     3,     4, ...,     0,     0,     0],\n",
       "       [    8,     9,    10, ...,     0,     0,     0],\n",
       "       [   11,    12,    13, ...,     0,     0,     0],\n",
       "       ...,\n",
       "       [ 8432,    48, 11103, ...,     0,     0,     0],\n",
       "       [ 1337,   439,  2323, ...,     0,     0,     0],\n",
       "       [ 2043,     4,   932, ...,     0,     0,     0]], dtype=int32)"
      ]
     },
     "execution_count": 104,
     "metadata": {},
     "output_type": "execute_result"
    }
   ],
   "source": [
    "train_sentences_X"
   ]
  },
  {
   "cell_type": "code",
   "execution_count": 108,
   "metadata": {},
   "outputs": [
    {
     "name": "stdout",
     "output_type": "stream",
     "text": [
      "{}\n"
     ]
    },
    {
     "ename": "KeyError",
     "evalue": "1",
     "output_type": "error",
     "traceback": [
      "\u001b[0;31m---------------------------------------------------------------------------\u001b[0m",
      "\u001b[0;31mKeyError\u001b[0m                                  Traceback (most recent call last)",
      "\u001b[0;32m<ipython-input-108-1869e02592fb>\u001b[0m in \u001b[0;36m<module>\u001b[0;34m\u001b[0m\n\u001b[1;32m      5\u001b[0m     \u001b[0;32mfor\u001b[0m \u001b[0mkey\u001b[0m\u001b[0;34m,\u001b[0m\u001b[0mval\u001b[0m \u001b[0;32min\u001b[0m \u001b[0mcount\u001b[0m\u001b[0;34m.\u001b[0m\u001b[0mitems\u001b[0m\u001b[0;34m(\u001b[0m\u001b[0;34m)\u001b[0m\u001b[0;34m:\u001b[0m\u001b[0;34m\u001b[0m\u001b[0;34m\u001b[0m\u001b[0m\n\u001b[1;32m      6\u001b[0m         \u001b[0mprint\u001b[0m\u001b[0;34m(\u001b[0m\u001b[0mcounter_dict\u001b[0m\u001b[0;34m)\u001b[0m\u001b[0;34m\u001b[0m\u001b[0;34m\u001b[0m\u001b[0m\n\u001b[0;32m----> 7\u001b[0;31m         \u001b[0mcounter_dict\u001b[0m\u001b[0;34m[\u001b[0m\u001b[0mkey\u001b[0m\u001b[0;34m]\u001b[0m \u001b[0;34m+=\u001b[0m \u001b[0mval\u001b[0m\u001b[0;34m\u001b[0m\u001b[0;34m\u001b[0m\u001b[0m\n\u001b[0m",
      "\u001b[0;31mKeyError\u001b[0m: 1"
     ]
    }
   ],
   "source": [
    "from collections import Counter\n",
    "counts = np.apply_along_axis(Counter,0,train_tags_y)\n",
    "counter_dict = dict()\n",
    "for count in counts:\n",
    "    for key,val in count.items():\n",
    "        print(counter_dict)\n",
    "        counter_dict[str(key)] += val"
   ]
  },
  {
   "cell_type": "code",
   "execution_count": 18,
   "metadata": {},
   "outputs": [
    {
     "name": "stdout",
     "output_type": "stream",
     "text": [
      "Found 400000 word vectors.\n"
     ]
    }
   ],
   "source": [
    "#Pre-Trained Embeddings from Glove\n",
    "GLOVE_DIR = \"glove/glove.6B\"\n",
    "embeddings_index = {}\n",
    "f = open(os.path.join(GLOVE_DIR, 'glove.6B.200d.txt'))\n",
    "for line in f:\n",
    "    values = line.split()\n",
    "    word = values[0]\n",
    "    coefs = np.asarray(values[1:], dtype='float32')\n",
    "    embeddings_index[word] = coefs\n",
    "f.close()\n",
    "\n",
    "print('Found %s word vectors.' % len(embeddings_index))"
   ]
  },
  {
   "cell_type": "code",
   "execution_count": 19,
   "metadata": {},
   "outputs": [],
   "source": [
    "EMBEDDING_DIM = 200"
   ]
  },
  {
   "cell_type": "code",
   "execution_count": 20,
   "metadata": {},
   "outputs": [],
   "source": [
    "embedding_matrix = np.zeros((len(word_to_ix) + 1, EMBEDDING_DIM))\n",
    "for word, i in word_to_ix.items():\n",
    "    embedding_vector = embeddings_index.get(word)\n",
    "    if embedding_vector is not None:\n",
    "        # words not found in embedding index will be all-zeros.\n",
    "        embedding_matrix[i] = embedding_vector"
   ]
  },
  {
   "cell_type": "code",
   "execution_count": 22,
   "metadata": {},
   "outputs": [],
   "source": [
    "from tensorflow.keras import backend as K\n",
    " \n",
    "def ignore_class_accuracy(to_ignore=0):\n",
    "    def ignore_accuracy(y_true, y_pred):\n",
    "        y_true_class = K.argmax(y_true, axis=-1)\n",
    "        y_pred_class = K.argmax(y_pred, axis=-1)\n",
    " \n",
    "        ignore_mask = K.cast(K.not_equal(y_pred_class, to_ignore), 'int32')\n",
    "        matches = K.cast(K.equal(y_true_class, y_pred_class), 'int32') * ignore_mask\n",
    "        accuracy = K.sum(matches) / K.maximum(K.sum(ignore_mask), 1)\n",
    "        return accuracy\n",
    "    return ignore_accuracy"
   ]
  },
  {
   "cell_type": "code",
   "execution_count": 49,
   "metadata": {},
   "outputs": [
    {
     "name": "stdout",
     "output_type": "stream",
     "text": [
      "Model: \"sequential_7\"\n",
      "_________________________________________________________________\n",
      "Layer (type)                 Output Shape              Param #   \n",
      "=================================================================\n",
      "embedding_7 (Embedding)      (None, 99, 200)           2221400   \n",
      "_________________________________________________________________\n",
      "dropout_6 (Dropout)          (None, 99, 200)           0         \n",
      "_________________________________________________________________\n",
      "bidirectional_7 (Bidirection (None, 99, 512)           703488    \n",
      "_________________________________________________________________\n",
      "dropout_7 (Dropout)          (None, 99, 512)           0         \n",
      "_________________________________________________________________\n",
      "time_distributed_7 (TimeDist (None, 99, 18)            9234      \n",
      "_________________________________________________________________\n",
      "activation_7 (Activation)    (None, 99, 18)            0         \n",
      "=================================================================\n",
      "Total params: 2,934,122\n",
      "Trainable params: 712,722\n",
      "Non-trainable params: 2,221,400\n",
      "_________________________________________________________________\n"
     ]
    }
   ],
   "source": [
    "from tensorflow.keras.models import Sequential\n",
    "from tensorflow.keras.layers import Dense, LSTM, InputLayer, Bidirectional, TimeDistributed, Embedding, Activation,Dropout,GRU,BatchNormalization\n",
    "from tensorflow.keras.optimizers import Adam,RMSprop\n",
    " \n",
    "model = Sequential()\n",
    "model.add(InputLayer(input_shape=(MAX_LENGTH, )))\n",
    "model.add(Embedding(len(word_to_ix)+1, EMBEDDING_DIM,input_length=MAX_LENGTH,weights=[embedding_matrix],trainable=False))\n",
    "model.add(Dropout(0.20))\n",
    "model.add(Bidirectional(GRU(256, return_sequences=True)))\n",
    "model.add(Dropout(0.15))\n",
    "model.add(TimeDistributed(Dense(len(tag_to_ix))))\n",
    "model.add(Activation('softmax'))\n",
    "\n",
    " \n",
    "model.compile(loss='categorical_crossentropy',\n",
    "              optimizer=Adam(0.001),\n",
    "              metrics=['accuracy',ignore_class_accuracy(0)])\n",
    " \n",
    "model.summary()"
   ]
  },
  {
   "cell_type": "code",
   "execution_count": 50,
   "metadata": {},
   "outputs": [],
   "source": [
    "def to_categorical(sequences, categories):\n",
    "    cat_sequences = []\n",
    "    for s in sequences:\n",
    "        cats = []\n",
    "        for item in s:\n",
    "            cats.append(np.zeros(categories))\n",
    "            cats[-1][item] = 1.0\n",
    "        cat_sequences.append(cats)\n",
    "    return np.array(cat_sequences)"
   ]
  },
  {
   "cell_type": "code",
   "execution_count": 51,
   "metadata": {},
   "outputs": [
    {
     "name": "stdout",
     "output_type": "stream",
     "text": [
      "[[0. 1. 0. ... 0. 0. 0.]\n",
      " [0. 0. 1. ... 0. 0. 0.]\n",
      " [0. 0. 0. ... 0. 0. 0.]\n",
      " ...\n",
      " [1. 0. 0. ... 0. 0. 0.]\n",
      " [1. 0. 0. ... 0. 0. 0.]\n",
      " [1. 0. 0. ... 0. 0. 0.]]\n"
     ]
    }
   ],
   "source": [
    "cat_train_tags_y = to_categorical(train_tags_y, len(tag_to_ix))\n",
    "print(cat_train_tags_y[0])"
   ]
  },
  {
   "cell_type": "code",
   "execution_count": 52,
   "metadata": {},
   "outputs": [],
   "source": [
    "import datetime\n",
    "logdir = os.path.join(\"logs\", datetime.datetime.now().strftime(\"%Y%m%d-%H%M%S\"))\n",
    "early_stop = tensorflow.keras.callbacks.EarlyStopping(monitor='val_ignore_accuracy', patience=3)\n",
    "tensorboard_callback = tensorflow.keras.callbacks.TensorBoard(logdir, histogram_freq=1)"
   ]
  },
  {
   "cell_type": "code",
   "execution_count": 53,
   "metadata": {},
   "outputs": [
    {
     "name": "stdout",
     "output_type": "stream",
     "text": [
      "Epoch 1/40\n",
      "34/34 [==============================] - 18s 536ms/step - loss: 0.9940 - accuracy: 0.8818 - ignore_accuracy: 0.4680 - val_loss: 0.2484 - val_accuracy: 0.9306 - val_ignore_accuracy: 0.6529\n",
      "Epoch 2/40\n",
      "34/34 [==============================] - 17s 512ms/step - loss: 0.2016 - accuracy: 0.9394 - ignore_accuracy: 0.6896 - val_loss: 0.1704 - val_accuracy: 0.9479 - val_ignore_accuracy: 0.7362\n",
      "Epoch 3/40\n",
      "34/34 [==============================] - 18s 515ms/step - loss: 0.1526 - accuracy: 0.9522 - ignore_accuracy: 0.7538 - val_loss: 0.1407 - val_accuracy: 0.9554 - val_ignore_accuracy: 0.7753\n",
      "Epoch 4/40\n",
      "34/34 [==============================] - 17s 510ms/step - loss: 0.1305 - accuracy: 0.9583 - ignore_accuracy: 0.7853 - val_loss: 0.1243 - val_accuracy: 0.9608 - val_ignore_accuracy: 0.8046\n",
      "Epoch 5/40\n",
      "34/34 [==============================] - 17s 509ms/step - loss: 0.1174 - accuracy: 0.9622 - ignore_accuracy: 0.8056 - val_loss: 0.1148 - val_accuracy: 0.9630 - val_ignore_accuracy: 0.8177\n",
      "Epoch 6/40\n",
      "34/34 [==============================] - 17s 508ms/step - loss: 0.1079 - accuracy: 0.9650 - ignore_accuracy: 0.8203 - val_loss: 0.1073 - val_accuracy: 0.9663 - val_ignore_accuracy: 0.8346\n",
      "Epoch 7/40\n",
      "34/34 [==============================] - 17s 509ms/step - loss: 0.1009 - accuracy: 0.9673 - ignore_accuracy: 0.8318 - val_loss: 0.1020 - val_accuracy: 0.9678 - val_ignore_accuracy: 0.8405\n",
      "Epoch 8/40\n",
      "34/34 [==============================] - 17s 507ms/step - loss: 0.0953 - accuracy: 0.9691 - ignore_accuracy: 0.8415 - val_loss: 0.0962 - val_accuracy: 0.9696 - val_ignore_accuracy: 0.8520\n",
      "Epoch 9/40\n",
      "34/34 [==============================] - 17s 495ms/step - loss: 0.0897 - accuracy: 0.9706 - ignore_accuracy: 0.8489 - val_loss: 0.0938 - val_accuracy: 0.9698 - val_ignore_accuracy: 0.8540\n",
      "Epoch 10/40\n",
      "34/34 [==============================] - 17s 509ms/step - loss: 0.0849 - accuracy: 0.9722 - ignore_accuracy: 0.8572 - val_loss: 0.0886 - val_accuracy: 0.9715 - val_ignore_accuracy: 0.8607\n",
      "Epoch 11/40\n",
      "34/34 [==============================] - 17s 495ms/step - loss: 0.0806 - accuracy: 0.9738 - ignore_accuracy: 0.8659 - val_loss: 0.0853 - val_accuracy: 0.9729 - val_ignore_accuracy: 0.8679\n",
      "Epoch 12/40\n",
      "34/34 [==============================] - 17s 492ms/step - loss: 0.0762 - accuracy: 0.9752 - ignore_accuracy: 0.8729 - val_loss: 0.0825 - val_accuracy: 0.9735 - val_ignore_accuracy: 0.8699\n",
      "Epoch 13/40\n",
      "34/34 [==============================] - 17s 487ms/step - loss: 0.0723 - accuracy: 0.9766 - ignore_accuracy: 0.8802 - val_loss: 0.0798 - val_accuracy: 0.9745 - val_ignore_accuracy: 0.8756\n",
      "Epoch 14/40\n",
      "34/34 [==============================] - 16s 481ms/step - loss: 0.0688 - accuracy: 0.9776 - ignore_accuracy: 0.8845 - val_loss: 0.0783 - val_accuracy: 0.9750 - val_ignore_accuracy: 0.8764\n",
      "Epoch 15/40\n",
      "34/34 [==============================] - 16s 482ms/step - loss: 0.0657 - accuracy: 0.9786 - ignore_accuracy: 0.8897 - val_loss: 0.0760 - val_accuracy: 0.9753 - val_ignore_accuracy: 0.8784\n",
      "Epoch 16/40\n",
      "34/34 [==============================] - 17s 486ms/step - loss: 0.0620 - accuracy: 0.9799 - ignore_accuracy: 0.8963 - val_loss: 0.0733 - val_accuracy: 0.9762 - val_ignore_accuracy: 0.8836\n",
      "Epoch 17/40\n",
      "34/34 [==============================] - 18s 520ms/step - loss: 0.0591 - accuracy: 0.9809 - ignore_accuracy: 0.9024 - val_loss: 0.0721 - val_accuracy: 0.9767 - val_ignore_accuracy: 0.8855\n",
      "Epoch 18/40\n",
      "34/34 [==============================] - 18s 517ms/step - loss: 0.0562 - accuracy: 0.9818 - ignore_accuracy: 0.9066 - val_loss: 0.0699 - val_accuracy: 0.9771 - val_ignore_accuracy: 0.8879\n",
      "Epoch 19/40\n",
      "34/34 [==============================] - 17s 510ms/step - loss: 0.0534 - accuracy: 0.9828 - ignore_accuracy: 0.9119 - val_loss: 0.0697 - val_accuracy: 0.9772 - val_ignore_accuracy: 0.8861\n",
      "Epoch 20/40\n",
      "34/34 [==============================] - 18s 542ms/step - loss: 0.0511 - accuracy: 0.9834 - ignore_accuracy: 0.9146 - val_loss: 0.0678 - val_accuracy: 0.9776 - val_ignore_accuracy: 0.8888\n",
      "Epoch 21/40\n",
      "34/34 [==============================] - 19s 567ms/step - loss: 0.0489 - accuracy: 0.9842 - ignore_accuracy: 0.9189 - val_loss: 0.0668 - val_accuracy: 0.9780 - val_ignore_accuracy: 0.8924\n",
      "Epoch 22/40\n",
      "34/34 [==============================] - 17s 498ms/step - loss: 0.0467 - accuracy: 0.9850 - ignore_accuracy: 0.9232 - val_loss: 0.0660 - val_accuracy: 0.9780 - val_ignore_accuracy: 0.8900\n",
      "Epoch 23/40\n",
      "34/34 [==============================] - 18s 529ms/step - loss: 0.0445 - accuracy: 0.9858 - ignore_accuracy: 0.9268 - val_loss: 0.0643 - val_accuracy: 0.9790 - val_ignore_accuracy: 0.8955\n",
      "Epoch 24/40\n",
      "34/34 [==============================] - 18s 543ms/step - loss: 0.0424 - accuracy: 0.9866 - ignore_accuracy: 0.9312 - val_loss: 0.0659 - val_accuracy: 0.9782 - val_ignore_accuracy: 0.8909\n",
      "Epoch 25/40\n",
      "34/34 [==============================] - 18s 526ms/step - loss: 0.0407 - accuracy: 0.9869 - ignore_accuracy: 0.9329 - val_loss: 0.0635 - val_accuracy: 0.9791 - val_ignore_accuracy: 0.8956\n",
      "Epoch 26/40\n",
      "34/34 [==============================] - 18s 530ms/step - loss: 0.0388 - accuracy: 0.9875 - ignore_accuracy: 0.9358 - val_loss: 0.0638 - val_accuracy: 0.9790 - val_ignore_accuracy: 0.8937\n",
      "Epoch 27/40\n",
      "34/34 [==============================] - 18s 526ms/step - loss: 0.0373 - accuracy: 0.9884 - ignore_accuracy: 0.9404 - val_loss: 0.0632 - val_accuracy: 0.9793 - val_ignore_accuracy: 0.8952\n",
      "Epoch 28/40\n",
      "34/34 [==============================] - 18s 532ms/step - loss: 0.0359 - accuracy: 0.9884 - ignore_accuracy: 0.9405 - val_loss: 0.0624 - val_accuracy: 0.9793 - val_ignore_accuracy: 0.8959\n",
      "Epoch 29/40\n",
      "34/34 [==============================] - 19s 549ms/step - loss: 0.0344 - accuracy: 0.9890 - ignore_accuracy: 0.9432 - val_loss: 0.0633 - val_accuracy: 0.9789 - val_ignore_accuracy: 0.8945\n",
      "Epoch 30/40\n",
      "34/34 [==============================] - 18s 520ms/step - loss: 0.0332 - accuracy: 0.9894 - ignore_accuracy: 0.9456 - val_loss: 0.0628 - val_accuracy: 0.9792 - val_ignore_accuracy: 0.8956\n",
      "Epoch 31/40\n",
      "34/34 [==============================] - 18s 521ms/step - loss: 0.0315 - accuracy: 0.9900 - ignore_accuracy: 0.9485 - val_loss: 0.0623 - val_accuracy: 0.9798 - val_ignore_accuracy: 0.9008\n",
      "Epoch 32/40\n",
      "34/34 [==============================] - 20s 587ms/step - loss: 0.0301 - accuracy: 0.9904 - ignore_accuracy: 0.9509 - val_loss: 0.0635 - val_accuracy: 0.9792 - val_ignore_accuracy: 0.8946\n",
      "Epoch 33/40\n",
      "34/34 [==============================] - 19s 560ms/step - loss: 0.0287 - accuracy: 0.9909 - ignore_accuracy: 0.9532 - val_loss: 0.0632 - val_accuracy: 0.9792 - val_ignore_accuracy: 0.8954\n",
      "Epoch 34/40\n",
      "34/34 [==============================] - 16s 485ms/step - loss: 0.0275 - accuracy: 0.9913 - ignore_accuracy: 0.9553 - val_loss: 0.0621 - val_accuracy: 0.9796 - val_ignore_accuracy: 0.8980\n"
     ]
    },
    {
     "data": {
      "text/plain": [
       "<tensorflow.python.keras.callbacks.History at 0x6550b41d0>"
      ]
     },
     "execution_count": 53,
     "metadata": {},
     "output_type": "execute_result"
    }
   ],
   "source": [
    "model.fit(train_sentences_X,\n",
    "          to_categorical(train_tags_y, len(tag_to_ix)),\n",
    "          batch_size=128,\n",
    "          epochs=40,\n",
    "          validation_data=(dev_sentences_X,to_categorical(dev_tags_y,len(tag_to_ix))),\n",
    "         callbacks = [early_stop,tensorboard_callback],\n",
    "         #class_weight=class_weights\n",
    "         )"
   ]
  },
  {
   "cell_type": "code",
   "execution_count": 54,
   "metadata": {},
   "outputs": [
    {
     "name": "stdout",
     "output_type": "stream",
     "text": [
      "28/28 [==============================] - 1s 47ms/step - loss: 0.0661 - accuracy: 0.9792 - ignore_accuracy: 0.8865\n",
      "ignore_accuracy: 88.65065574645996\n"
     ]
    }
   ],
   "source": [
    "scores = model.evaluate(test_sentences_X, to_categorical(test_tags_y, len(tag_to_ix)))\n",
    "print(f\"{model.metrics_names[2]}: {scores[2] * 100}\")"
   ]
  },
  {
   "cell_type": "code",
   "execution_count": 680,
   "metadata": {},
   "outputs": [
    {
     "name": "stderr",
     "output_type": "stream",
     "text": [
      "UsageError: Line magic function `%tensorboard` not found.\n"
     ]
    }
   ],
   "source": [
    "%tensorboard --logdir logs"
   ]
  },
  {
   "cell_type": "code",
   "execution_count": 55,
   "metadata": {},
   "outputs": [
    {
     "name": "stdout",
     "output_type": "stream",
     "text": [
      "[['I', 'am', 'a', 'data', 'scientist', 'at', 'a', 'company', 'in', 'the', 'city', 'center']]\n"
     ]
    }
   ],
   "source": [
    "test_samples = [\n",
    "    \"I am a data scientist at a company in the city center\".split()\n",
    "]\n",
    "print(test_samples)"
   ]
  },
  {
   "cell_type": "code",
   "execution_count": 56,
   "metadata": {},
   "outputs": [
    {
     "name": "stdout",
     "output_type": "stream",
     "text": [
      "[[ 1144  3353    51   397 10649    33    51  7590   101    48  1760  3082\n",
      "      0     0     0     0     0     0     0     0     0     0     0     0\n",
      "      0     0     0     0     0     0     0     0     0     0     0     0\n",
      "      0     0     0     0     0     0     0     0     0     0     0     0\n",
      "      0     0     0     0     0     0     0     0     0     0     0     0\n",
      "      0     0     0     0     0     0     0     0     0     0     0     0\n",
      "      0     0     0     0     0     0     0     0     0     0     0     0\n",
      "      0     0     0     0     0     0     0     0     0     0     0     0\n",
      "      0     0     0]]\n"
     ]
    }
   ],
   "source": [
    "test_samples_X = []\n",
    "for s in test_samples:\n",
    "    s_int = []\n",
    "    for w in s:\n",
    "        try:\n",
    "            s_int.append(word_to_ix[w.lower()])\n",
    "        except KeyError:\n",
    "            s_int.append(word_to_ix['-OOV-'])\n",
    "    test_samples_X.append(s_int)\n",
    "\n",
    "test_samples_X = pad_sequences(test_samples_X, maxlen=MAX_LENGTH, padding='post')\n",
    "print(test_samples_X)\n",
    " "
   ]
  },
  {
   "cell_type": "code",
   "execution_count": 57,
   "metadata": {},
   "outputs": [],
   "source": [
    "def logits_to_tokens(sequences, index):\n",
    "    token_sequences = []\n",
    "    for categorical_sequence in sequences:\n",
    "        token_sequence = []\n",
    "        for categorical in categorical_sequence:\n",
    "            token_sequence.append(index[np.argmax(categorical)])\n",
    " \n",
    "        token_sequences.append(token_sequence)\n",
    "    return token_sequences "
   ]
  },
  {
   "cell_type": "code",
   "execution_count": 66,
   "metadata": {},
   "outputs": [],
   "source": [
    "predictions = model.predict(dev_sentences_X)"
   ]
  },
  {
   "cell_type": "code",
   "execution_count": 67,
   "metadata": {},
   "outputs": [],
   "source": [
    "abs_pred = np.apply_along_axis(np.argmax,2,predictions)"
   ]
  },
  {
   "cell_type": "code",
   "execution_count": 68,
   "metadata": {},
   "outputs": [],
   "source": [
    "pred_tags = []\n",
    "for val in abs_pred[0][0:len(test_samples[0])]:\n",
    "    for key,value in tag_to_ix.items():\n",
    "        if val==value:\n",
    "            pred_tags.append(key)"
   ]
  },
  {
   "cell_type": "code",
   "execution_count": 69,
   "metadata": {},
   "outputs": [
    {
     "name": "stdout",
     "output_type": "stream",
     "text": [
      "[['I', 'am', 'a', 'data', 'scientist', 'at', 'a', 'company', 'in', 'the', 'city', 'center']]\n",
      "['NOUN', '-PAD-', '-PAD-', '-PAD-', '-PAD-', '-PAD-', '-PAD-', '-PAD-', '-PAD-', '-PAD-', '-PAD-', '-PAD-']\n"
     ]
    },
    {
     "data": {
      "text/plain": [
       "(None, None)"
      ]
     },
     "execution_count": 69,
     "metadata": {},
     "output_type": "execute_result"
    }
   ],
   "source": [
    "print(test_samples),print(pred_tags)"
   ]
  },
  {
   "cell_type": "code",
   "execution_count": 70,
   "metadata": {},
   "outputs": [
    {
     "name": "stdout",
     "output_type": "stream",
     "text": [
      "Requirement already satisfied: scikit-plot in /opt/anaconda3/lib/python3.7/site-packages (0.3.7)\n",
      "Requirement already satisfied: scikit-learn>=0.18 in /opt/anaconda3/lib/python3.7/site-packages (from scikit-plot) (0.22.1)\n",
      "Requirement already satisfied: joblib>=0.10 in /opt/anaconda3/lib/python3.7/site-packages (from scikit-plot) (0.15.1)\n",
      "Requirement already satisfied: scipy>=0.9 in /opt/anaconda3/lib/python3.7/site-packages (from scikit-plot) (1.4.1)\n",
      "Requirement already satisfied: matplotlib>=1.4.0 in /Users/sraina/.local/lib/python3.7/site-packages (from scikit-plot) (3.2.0)\n",
      "Requirement already satisfied: numpy>=1.11.0 in /opt/anaconda3/lib/python3.7/site-packages (from scikit-learn>=0.18->scikit-plot) (1.18.1)\n",
      "Requirement already satisfied: cycler>=0.10 in /Users/sraina/.local/lib/python3.7/site-packages (from matplotlib>=1.4.0->scikit-plot) (0.10.0)\n",
      "Requirement already satisfied: pyparsing!=2.0.4,!=2.1.2,!=2.1.6,>=2.0.1 in /Users/sraina/.local/lib/python3.7/site-packages (from matplotlib>=1.4.0->scikit-plot) (2.4.6)\n",
      "Requirement already satisfied: kiwisolver>=1.0.1 in /Users/sraina/.local/lib/python3.7/site-packages (from matplotlib>=1.4.0->scikit-plot) (1.1.0)\n",
      "Requirement already satisfied: python-dateutil>=2.1 in /opt/anaconda3/lib/python3.7/site-packages (from matplotlib>=1.4.0->scikit-plot) (2.8.1)\n",
      "Requirement already satisfied: six in /opt/anaconda3/lib/python3.7/site-packages (from cycler>=0.10->matplotlib>=1.4.0->scikit-plot) (1.14.0)\n",
      "Requirement already satisfied: setuptools in /opt/anaconda3/lib/python3.7/site-packages (from kiwisolver>=1.0.1->matplotlib>=1.4.0->scikit-plot) (46.4.0.post20200518)\n"
     ]
    }
   ],
   "source": [
    "! pip install scikit-plot"
   ]
  },
  {
   "cell_type": "code",
   "execution_count": 71,
   "metadata": {},
   "outputs": [],
   "source": [
    "from sklearn.metrics import multilabel_confusion_matrix,classification_report"
   ]
  },
  {
   "cell_type": "code",
   "execution_count": 73,
   "metadata": {},
   "outputs": [
    {
     "data": {
      "image/png": "[encoded data removed]",
      "text/plain": [
       "<Figure size 720x720 with 2 Axes>"
      ]
     },
     "metadata": {
      "needs_background": "light"
     },
     "output_type": "display_data"
    }
   ],
   "source": [
    "import scikitplot as skplt\n",
    "import matplotlib.pyplot as plt\n",
    "fig,ax = plt.subplots(figsize=(10,10))\n",
    "skplt.metrics.plot_confusion_matrix(dev_tags_y.flatten(), abs_pred.flatten(),ax=ax,normalize=True);"
   ]
  },
  {
   "cell_type": "code",
   "execution_count": 75,
   "metadata": {},
   "outputs": [
    {
     "name": "stdout",
     "output_type": "stream",
     "text": [
      "              precision    recall  f1-score   support\n",
      "\n",
      "           0       1.00      1.00      1.00     62023\n",
      "           1       0.78      0.77      0.78      1113\n",
      "           2       0.87      0.85      0.86      2885\n",
      "           3       0.99      1.00      0.99       525\n",
      "           4       0.99      1.00      1.00      2023\n",
      "           5       0.96      0.96      0.96      1660\n",
      "           6       0.62      0.74      0.67       951\n",
      "           7       0.88      0.76      0.82       311\n",
      "           8       0.97      0.97      0.97       718\n",
      "           9       0.87      0.87      0.87      1639\n",
      "          10       0.99      0.99      0.99      1325\n",
      "          11       0.98      0.98      0.98      1119\n",
      "          12       0.95      0.81      0.87       337\n",
      "          13       0.81      0.78      0.79       557\n",
      "          14       0.33      0.17      0.22        30\n",
      "          15       1.00      0.90      0.95        10\n",
      "          16       0.96      0.96      0.96       371\n",
      "          17       0.93      0.74      0.82        19\n",
      "\n",
      "    accuracy                           0.98     77616\n",
      "   macro avg       0.88      0.85      0.86     77616\n",
      "weighted avg       0.98      0.98      0.98     77616\n",
      "\n"
     ]
    }
   ],
   "source": [
    "print(classification_report(dev_tags_y.flatten(), abs_pred.flatten()))"
   ]
  },
  {
   "cell_type": "code",
   "execution_count": null,
   "metadata": {},
   "outputs": [],
   "source": []
  }
 ],
 "metadata": {
  "kernelspec": {
   "display_name": "Python 3",
   "language": "python",
   "name": "python3"
  },
  "language_info": {
   "codemirror_mode": {
    "name": "ipython",
    "version": 3
   },
   "file_extension": ".py",
   "mimetype": "text/x-python",
   "name": "python",
   "nbconvert_exporter": "python",
   "pygments_lexer": "ipython3",
   "version": "3.7.6"
  }
 },
 "nbformat": 4,
 "nbformat_minor": 4
}
